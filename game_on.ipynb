{
 "cells": [
  {
   "cell_type": "code",
   "execution_count": 1,
   "metadata": {},
   "outputs": [
    {
     "name": "stdout",
     "output_type": "stream",
     "text": [
      "Loading word list from file...\n",
      "('  ', 55900, 'words loaded.')\n"
     ]
    }
   ],
   "source": [
    "import hangman"
   ]
  },
  {
   "cell_type": "code",
   "execution_count": 2,
   "metadata": {},
   "outputs": [],
   "source": [
    "# 1. The computer must select a word at random from the list of available words \n",
    "#    that was provided in words.txt. \n",
    "#    Note that words.txt contains words in all lowercase letters.\n",
    "# 2. The user is given a certain number of guesses at the beginning.\n",
    "# 3. The game is interactive; the user inputs their guess and the computer either:\n",
    "#    a. reveals the letter if it exists in the secret word\n",
    "#    b. penalize the user and updates the number of guesses remaining\n",
    "# 4. The game ends when either the user guesses the secret word, or the user runs\n",
    "#    out of guesses."
   ]
  },
  {
   "cell_type": "code",
   "execution_count": 3,
   "metadata": {},
   "outputs": [
    {
     "data": {
      "text/plain": [
       "False"
      ]
     },
     "execution_count": 3,
     "metadata": {},
     "output_type": "execute_result"
    }
   ],
   "source": [
    "secret_word = set(list(\"sanjay\"))\n",
    "guess_word = {'a', 'k'}\n",
    "secret_word.issuperset(guess_word)"
   ]
  },
  {
   "cell_type": "code",
   "execution_count": 4,
   "metadata": {},
   "outputs": [
    {
     "name": "stdout",
     "output_type": "stream",
     "text": [
      "False\n",
      "True\n"
     ]
    }
   ],
   "source": [
    "def is_word_guessed(secret_word, letters_guessed):\n",
    "    for secret_letter in list(secret_word):\n",
    "        if secret_letter not in letters_guessed:\n",
    "            return False\n",
    "    return True\n",
    "\n",
    "secret_word = 'apple'\n",
    "letters_guessed = ['e', 'i', 'k', 'p', 'r', 's']\n",
    "print(is_word_guessed(secret_word, letters_guessed))\n",
    "\n",
    "secret_word = 'apple'\n",
    "letters_guessed =['e', 'a', 'p', 'k', 'l']\n",
    "print(is_word_guessed(secret_word, letters_guessed))"
   ]
  },
  {
   "cell_type": "code",
   "execution_count": 5,
   "metadata": {},
   "outputs": [
    {
     "name": "stdout",
     "output_type": "stream",
     "text": [
      "_ pp_ e\n",
      "apple\n",
      "_ _ _ _ _ \n"
     ]
    }
   ],
   "source": [
    "def get_guessed_word(secret_word, letters_guessed):\n",
    "    guessed_word = ''\n",
    "    for secret_letter in list(secret_word):\n",
    "        if secret_letter not in letters_guessed:\n",
    "            guessed_word = guessed_word + '_ '\n",
    "        else:\n",
    "            guessed_word = guessed_word + secret_letter\n",
    "    return guessed_word\n",
    "\n",
    "secret_word = 'apple'\n",
    "letters_guessed = ['e', 'i', 'k', 'p', 'r', 's']\n",
    "print(get_guessed_word(secret_word, letters_guessed))\n",
    "\n",
    "secret_word = 'apple'\n",
    "letters_guessed =['e', 'a', 'p', 'k', 'l']\n",
    "print(get_guessed_word(secret_word, letters_guessed))\n",
    "\n",
    "secret_word = 'apple'\n",
    "letters_guessed =[]\n",
    "print(get_guessed_word(secret_word, letters_guessed))\n"
   ]
  },
  {
   "cell_type": "code",
   "execution_count": 6,
   "metadata": {},
   "outputs": [
    {
     "name": "stdout",
     "output_type": "stream",
     "text": [
      "abcdfghjlmnoqtuvwxyz\n",
      "abcdefghijklmnopqrstuvwxyz\n"
     ]
    }
   ],
   "source": [
    "import string\n",
    "\n",
    "def get_available_letters(letters_guessed):\n",
    "        alphabet_soup = ''\n",
    "        alphabet = string.ascii_lowercase\n",
    "        for each_letter in list(alphabet):\n",
    "            if each_letter in letters_guessed:\n",
    "                alphabet_soup = alphabet_soup + ''\n",
    "            else:\n",
    "                alphabet_soup = alphabet_soup + each_letter\n",
    "        return alphabet_soup\n",
    "        \n",
    "        \n",
    "letters_guessed = ['e', 'i', 'k', 'p', 'r', 's']\n",
    "print(get_available_letters(letters_guessed))\n",
    "\n",
    "letters_guessed = []\n",
    "print(get_available_letters(letters_guessed))\n"
   ]
  },
  {
   "cell_type": "code",
   "execution_count": 8,
   "metadata": {},
   "outputs": [
    {
     "name": "stdout",
     "output_type": "stream",
     "text": [
      "Loading word list from file...\n",
      "('  ', 55900, 'words loaded.')\n",
      "Welcome to the game Hangman!\n",
      "I am thinking of a word that is 9 characters long.\n",
      "-------------\n",
      "You have 6 guesses left.\n",
      "Available letters: 'abcdefghijklmnopqrstuvwxyz'\n",
      "Please guess a letter: a\n",
      "Oops! That letter is not in my word: '_ _ _ _ _ _ _ _ _ '\n",
      "-------------\n",
      "You have 5 guesses left.\n",
      "Available letters: 'bcdefghijklmnopqrstuvwxyz'\n",
      "Please guess a letter: r\n",
      "Good guess! You have: '_ _ _ _ _ r_ _ _ '\n",
      "-------------\n",
      "You have 4 guesses left.\n",
      "Available letters: 'bcdefghijklmnopqstuvwxyz'\n",
      "Please guess a letter: e\n",
      "Good guess! You have: '_ _ _ _ er_ _ _ '\n",
      "-------------\n",
      "You have 3 guesses left.\n",
      "Available letters: 'bcdfghijklmnopqstuvwxyz'\n",
      "Please guess a letter: &\n",
      "Warning! You may ONLY enter a letter: '_ _ _ _ er_ _ _ '\n",
      "-------------\n",
      "You have 3 guesses left.\n",
      "Available letters: 'bcdfghijklmnopqstuvwxyz'\n",
      "Please guess a letter: &\n",
      "Warning! You may ONLY enter a letter: '_ _ _ _ er_ _ _ '\n",
      "-------------\n",
      "You have 3 guesses left.\n",
      "Available letters: 'bcdfghijklmnopqstuvwxyz'\n",
      "Please guess a letter: &\n",
      "Warning! You may ONLY enter a letter: '_ _ _ _ er_ _ _ '\n",
      "-------------\n",
      "You have 2 guesses left.\n",
      "Available letters: 'bcdfghijklmnopqstuvwxyz'\n",
      "Please guess a letter: l\n",
      "Oops! That letter is not in my word: '_ _ _ _ er_ _ _ '\n",
      "-------------\n",
      "You have 1 guesses left.\n",
      "Available letters: 'bcdfghijkmnopqstuvwxyz'\n",
      "Please guess a letter: b\n",
      "Good guess! You have: '_ _ _ _ erb_ _ '\n",
      "You're outa luck pal! So long: 'jitterbug'\n"
     ]
    }
   ],
   "source": [
    "import hangman\n",
    "import string\n",
    "\n",
    "def get_secret_word():\n",
    "    secret_word = 'alpha'\n",
    "    wordlist = hangman.load_words()\n",
    "    secret_word = hangman.choose_word(wordlist)\n",
    "    return secret_word\n",
    "    \n",
    "def prime_hangman(secret_word):\n",
    "    print(\"Welcome to the game Hangman!\")\n",
    "    print(\"I am thinking of a word that is %r characters long.\") % len(secret_word)\n",
    "  \n",
    "\n",
    "def ask_question(guesses_remaining, available_letters):\n",
    "    print(\"-------------\")\n",
    "    print(\"You have %r guesses left.\") % guesses_remaining\n",
    "    print(\"Available letters: %r\") % available_letters\n",
    "    guess = raw_input(\"Please guess a letter: \")\n",
    "    return guess\n",
    "\n",
    "def play_hangman():\n",
    "    secret_word = get_secret_word()\n",
    "    guesses_remaining = 6\n",
    "    warnings_remaining = 3\n",
    "    letters_guessed = []\n",
    "    available_letters =  get_available_letters(letters_guessed)\n",
    "\n",
    "    prime_hangman(secret_word)\n",
    "\n",
    "    while(guesses_remaining > 0):\n",
    "        guess = ask_question(guesses_remaining, available_letters)\n",
    "        if not str.isalpha(guess):\n",
    "            print(\"Warning! You may ONLY enter a letter: %r\") % get_guessed_word(secret_word, letters_guessed)\n",
    "            warnings_remaining = warnings_remaining - 1\n",
    "        elif str.lower(guess) in letters_guessed:\n",
    "            print(\"Warning! Enter a letter you haven't already used: %r\") % get_guessed_word(secret_word, letters_guessed)\n",
    "            warnings_remaining = warnings_remaining - 1\n",
    "        else:\n",
    "            guess = str.lower(guess)\n",
    "            letters_guessed.append(guess)\n",
    "            available_letters = get_available_letters(letters_guessed)\n",
    "            if guess not in list(secret_word):\n",
    "                print(\"Oops! That letter is not in my word: %r\") % get_guessed_word(secret_word, letters_guessed)\n",
    "                guesses_remaining = guesses_remaining - 1\n",
    "            else:\n",
    "                print(\"Good guess! You have: %r\") % get_guessed_word(secret_word, letters_guessed)\n",
    "                guesses_remaining = guesses_remaining - 1\n",
    "        \n",
    "        if is_word_guessed(secret_word, letters_guessed):\n",
    "            print(\"Congratulations, champ!\")\n",
    "            break\n",
    "            \n",
    "        if (warnings_remaining == 0):\n",
    "            warnings_remaining = 3\n",
    "            guesses_remaining = guesses_remaining - 1\n",
    "            \n",
    "        if (guesses_remaining == 0):\n",
    "            print(\"You're outa luck pal! So long: %r\") % secret_word\n",
    "                  \n",
    "        \n",
    "play_hangman()"
   ]
  },
  {
   "cell_type": "code",
   "execution_count": null,
   "metadata": {},
   "outputs": [],
   "source": []
  },
  {
   "cell_type": "code",
   "execution_count": null,
   "metadata": {},
   "outputs": [],
   "source": []
  },
  {
   "cell_type": "code",
   "execution_count": null,
   "metadata": {},
   "outputs": [],
   "source": []
  },
  {
   "cell_type": "code",
   "execution_count": null,
   "metadata": {},
   "outputs": [],
   "source": []
  }
 ],
 "metadata": {
  "kernelspec": {
   "display_name": "Python 2",
   "language": "python",
   "name": "python2"
  },
  "language_info": {
   "codemirror_mode": {
    "name": "ipython",
    "version": 2
   },
   "file_extension": ".py",
   "mimetype": "text/x-python",
   "name": "python",
   "nbconvert_exporter": "python",
   "pygments_lexer": "ipython2",
   "version": "2.7.14"
  }
 },
 "nbformat": 4,
 "nbformat_minor": 2
}
