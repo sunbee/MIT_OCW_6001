{
 "cells": [
  {
   "cell_type": "code",
   "execution_count": 1,
   "metadata": {},
   "outputs": [],
   "source": [
    "# Tuples, Lists, Aliasing, Mutability and Cloning"
   ]
  },
  {
   "cell_type": "code",
   "execution_count": 2,
   "metadata": {},
   "outputs": [],
   "source": [
    "# Containers:\n",
    "# Containers or Compound Data Types are data types \n",
    "# that are composed of other data types.\n",
    "# These are collections."
   ]
  },
  {
   "cell_type": "code",
   "execution_count": 10,
   "metadata": {},
   "outputs": [
    {
     "name": "stdout",
     "output_type": "stream",
     "text": [
      "0\n",
      "('TU154',)\n",
      "('TU154', 7)\n",
      "(0, 'TU154', 7, 'TU144', 'TU104', 'TU22M')\n",
      "So you think Tu-144 was a Soviet Concorde, comrarde?\n"
     ]
    }
   ],
   "source": [
    "# Tuples:\n",
    "# Collection of data of any type.\n",
    "# Integers, Floats, Strings, etc.\n",
    "# Tuples are immutable.\n",
    "\n",
    "# Create:\n",
    "# Use parentheses ()\n",
    "# Separate indivisual elements with a comma\n",
    "\n",
    "Tupolev = ()\n",
    "Tupolev = (0, \"TU154\", 7)\n",
    "\n",
    "# Retrieve:\n",
    "# Retrieve an element by index\n",
    "# or a slice by range.\n",
    "\n",
    "print Tupolev[0]        # 0\n",
    "print Tupolev[1:2]      # 'TU154'\n",
    "print Tupolev[1:3]      # 'TU154', 7\n",
    "\n",
    "# Update\n",
    "# Concatenate just like strings.\n",
    "Tupolev = Tupolev + ('TU144', 'TU104', 'TU22M')\n",
    "print Tupolev\n",
    "\n",
    "# Note that a tuple is immutable, so an operation \n",
    "# that modifies a value in it is not permissible.\n",
    "\n",
    "try:\n",
    "    Tupolev[2] = \"Concordski\"\n",
    "except:\n",
    "    print \"So you think Tu-144 was a Soviet Concorde, comrarde?\"\n",
    "\n",
    "# Delete\n",
    "\n",
    "# Note: Many operations on a tuple resemble those on a string. \n",
    "# Note: A tuple with a single element has a trailing comma, \n",
    "# to disambiguate it from a string in parentheses."
   ]
  },
  {
   "cell_type": "code",
   "execution_count": 13,
   "metadata": {},
   "outputs": [
    {
     "name": "stdout",
     "output_type": "stream",
     "text": [
      "Tweedledee\n"
     ]
    }
   ],
   "source": [
    "# Operate on tuples\n",
    "\n",
    "Sounds = (\"meow\", \"wuff\", \"road\", \"eek\")\n",
    "len(Sounds)\n",
    "\n",
    "# Swap!\n",
    "x = 'Tweedledum'\n",
    "y = 'Tweedledee'\n",
    "(x, y) = (y, x)   # Swap em!\n",
    "\n",
    "print x           # Tweedledee "
   ]
  },
  {
   "cell_type": "code",
   "execution_count": 18,
   "metadata": {},
   "outputs": [
    {
     "name": "stdout",
     "output_type": "stream",
     "text": [
      "(0.0, 4.0)\n"
     ]
    }
   ],
   "source": [
    "# Use a tuple when returning more than one value from a function.\n",
    "# A function may return only one object. Tuple is a potential \n",
    "# choice of container to stash more than one value to return.\n",
    "\n",
    "# Example: Remainder and Quotient\n",
    "\n",
    "def remainder_and_quotient(numerator, denominator):\n",
    "    r = numerator // denominator  \n",
    "    q = numerator % denominator\n",
    "    return (r, q)\n",
    "\n",
    "print remainder_and_quotient(4, 5.0)\n",
    "\n",
    "# Note that '//' returns the floor value of division for both \n",
    "# floats and integers as input"
   ]
  },
  {
   "cell_type": "code",
   "execution_count": 27,
   "metadata": {},
   "outputs": [
    {
     "name": "stdout",
     "output_type": "stream",
     "text": [
      "Between 2008 and 2014, Taylor Swift wrote songs about 5 people.\n"
     ]
    }
   ],
   "source": [
    "# Iterate over a tuple with a for loop\n",
    "\n",
    "# Example: Separate out words and numbers from a tuple of tuples ((,), (,), (,))\n",
    "\n",
    "def parse_data(TwinTuple):\n",
    "    numbers = ()\n",
    "    words = ()\n",
    "    for t in TwinTuple:\n",
    "        numbers = numbers + (t[0],)\n",
    "        if t[1] not in words:\n",
    "            words = words + (t[1],)\n",
    "    minima = min(numbers)\n",
    "    maxima = max(numbers)\n",
    "    unique_words = len(words)\n",
    "    \n",
    "    return (minima, maxima, unique_words)\n",
    "\n",
    "parse_data(((11, \"bread\"), (19, \"eggs\"), (23, \"bananas\"), (14, \"eggs\")))\n",
    "\n",
    "tswift = ((2014, 'Katy'),\n",
    "         (2014, \"Harry\"),\n",
    "         (2012, \"Jake\"),\n",
    "         (2010, \"Taylor\"),\n",
    "         (2008, \"Joe\"))\n",
    "(min, max, folks) = parse_data(tswift)\n",
    "print \"Between %r and %r, Taylor Swift wrote songs about %r people.\" % (min, max, folks)"
   ]
  },
  {
   "cell_type": "code",
   "execution_count": 47,
   "metadata": {},
   "outputs": [
    {
     "name": "stdout",
     "output_type": "stream",
     "text": [
      "'onomatopoeia' when your speech sizzles!\n",
      "'hyperbole' when you've not only knocked the ball out of the park, but out of the city and out of the county!\n",
      "'similie' because imitation is the sincerest form of flattery!\n",
      "'First' round score in first set was 377\n",
      "Your vaulting ambitions o'erleaps itself! (You exceeded the index.)\n",
      "I have south Indian languages by ISO 639-1 codes as: ['kn', 'ta', 'ur', 'en']\n",
      "I got English in place of Malayalam! Ayyo!\n",
      "I have south Indian languages by ISO 639-1 codes as: ['kn', 'ta', 'ur', 'ml']\n"
     ]
    }
   ],
   "source": [
    "# Lists:\n",
    "# Collection of data of any type.\n",
    "# Integers, Floats, Strings, etc.\n",
    "# lists are mutable.\n",
    "\n",
    "# Create:\n",
    "# Use rectangular brackets.\n",
    "# Separate individual elements with a comma.\n",
    "Listless = []\n",
    "Listless= ['similie', 'metaphor', 'synecdoche']\n",
    "\n",
    "# Retrieve:\n",
    "# Retrieve an element or slice by index or range respectively.\n",
    "\n",
    "SpeechFigures = [['similie', 'metaphor', 'synecdoche'], 'onomatopoeia', 'hyperbole']\n",
    "print \"%r when your speech sizzles!\" % (SpeechFigures[1])\n",
    "print \"%r when you've not only knocked the ball out of the park, but out of the city and out of the county!\" % (SpeechFigures[2])\n",
    "print \"%r because imitation is the sincerest form of flattery!\" % (SpeechFigures[0][0])\n",
    "\n",
    "# Note: A list can contain other containers, such as lists or tuples.\n",
    "\n",
    "Scores = [{\"First\": 377, \"Second\": 190}, 234]\n",
    "print \"%r round score in first set was %r\" % (Scores[0].keys()[1], Scores[0][Scores[0].keys()[1]])\n",
    "\n",
    "# Note: Exceeding the index causes an error.\n",
    "\n",
    "try:\n",
    "    print SpeechFigures[4]\n",
    "except:\n",
    "    print \"Your vaulting ambitions o'erleaps itself! (You exceeded the index.)\"\n",
    "    \n",
    "# Update:\n",
    "# Use index to replace value.\n",
    "\n",
    "enList = ['kn', 'ta', 'ur', 'en']\n",
    "print \"I have south Indian languages by ISO 639-1 codes as: %r\" % (enList)\n",
    "enList[3] = 'ml'\n",
    "print \"I got English in place of Malayalam! Ayyo!\"\n",
    "print \"I have south Indian languages by ISO 639-1 codes as: %r\" % (enList)\n"
   ]
  },
  {
   "cell_type": "code",
   "execution_count": 50,
   "metadata": {},
   "outputs": [
    {
     "name": "stdout",
     "output_type": "stream",
     "text": [
      "Summmed the prime numbers at a blistering pace to yield: 38\n"
     ]
    }
   ],
   "source": [
    "# Iterate over a list (pythonically!)\n",
    "\n",
    "bLister = [1, 2, 3, 5, 7, 9, 11]\n",
    "sum = 0'te'\n",
    "for i in bLister:\n",
    "    sum += i\n",
    "print \"Summmed the prime numbers at a blistering pace to yield: %r\" % (sum)"
   ]
  },
  {
   "cell_type": "code",
   "execution_count": 69,
   "metadata": {},
   "outputs": [
    {
     "name": "stdout",
     "output_type": "stream",
     "text": [
      "['Namaste', 'Salaam', 'Ola', 'Ciao', 'Vanakkam']\n",
      "['kn', 'te', 'ta', 'ml', 'hi', 'mr']\n",
      "['Germany', 'France', 'Portugal', 'Italy', 'Greece', 'Spain']\n",
      "Russia does not belong in Europe!\n",
      "['Germany', 'France', 'Portugal', 'Italy', 'Spain']\n",
      "Spain\n",
      "['Germany', 'France', 'Portugal', 'Italy']\n"
     ]
    }
   ],
   "source": [
    "# Operate on lists.\n",
    "# A diverse set of operations available that take \n",
    "# advantage of the mutability of lists.\n",
    "\n",
    "# Methods and functions\n",
    "# Methods are a special type of function. In Object Oriented Programming,\n",
    "# a class is a special type of container that has data and functionality.\n",
    "# These functions are called methods. They are invoked on an instance of\n",
    "# the class called object. The invocation is made using the dot operator.\n",
    "\n",
    "# Note that methods mutate the list. \n",
    "\n",
    "# Use append to add an element to a list\n",
    "\n",
    "Greetings = [\"Namaste\", \"Salaam\", \"Ola\", \"Ciao\"]\n",
    "Greetings.append(\"Vanakkam\")\n",
    "print Greetings\n",
    "\n",
    "# Use extend to add a list to a list\n",
    "\n",
    "Languages = ['kn', 'te', 'ta', 'ml']\n",
    "Languages.extend(['hi', 'mr'])\n",
    "print Languages\n",
    "\n",
    "# Use remove to delete elements from a list\n",
    "# Note that in case of multiple matching occurences,\n",
    "# only the first one is removed.\n",
    "\n",
    "EU = ['Germany', 'France', 'United Kingdom', 'Portugal', 'Italy', 'Greece', 'Spain']\n",
    "EU.remove('United Kingdom')   # Brexit!\n",
    "print EU\n",
    "\n",
    "try:\n",
    "    EU.remove('Russia')\n",
    "except:\n",
    "    print \"Russia does not belong in Europe!\"\n",
    "\n",
    "# Use del to delete elements by index\n",
    "\n",
    "del(EU[-2])                   # Use Greece\n",
    "print EU\n",
    "\n",
    "# Use pop to delete the last element and return the value\n",
    "\n",
    "print EU.pop()                # Spain\n",
    "print EU"
   ]
  },
  {
   "cell_type": "code",
   "execution_count": 82,
   "metadata": {},
   "outputs": [
    {
     "name": "stdout",
     "output_type": "stream",
     "text": [
      "['s', 't', 'r', 'o', 'n', 'g']\n",
      "lost\n"
     ]
    },
    {
     "data": {
      "text/plain": [
       "'I_L_U'"
      ]
     },
     "execution_count": 82,
     "metadata": {},
     "output_type": "execute_result"
    }
   ],
   "source": [
    "# Forge a string from list or enlist the characters in a string\n",
    "\n",
    "# Sting > List\n",
    "\n",
    "s = 'strong'\n",
    "print list(s)\n",
    "\n",
    "# List > String\n",
    "\n",
    "l = ['l', 'o', 's', 't']\n",
    "print ''.join(l)\n",
    "\n",
    "# Depending on what you want to do, it may be convenient to \n",
    "# operate on a string as a list or a list as a string.\n",
    "\n",
    "# What do the following do?\n",
    "\n",
    "s = \"I <3 Pi\"\n",
    "list(s)         # ['I', ' ', '<', '3', ' ', 'P', 'i']\n",
    "s.split('<3')   # ['I ', ' Pi']\n",
    "L = ['I', 'L', 'U']\n",
    "''.join(L)      # ILU\n",
    "'_'.join(L)     # I_L_U"
   ]
  },
  {
   "cell_type": "code",
   "execution_count": 90,
   "metadata": {},
   "outputs": [],
   "source": [
    "# Sort a list\n",
    "# Use the function sorted to return the list elements in sorted order,\n",
    "# without changing the original list.\n",
    "# Use the method sort to reorganize the list elements in ascending order.\n",
    "\n",
    "LinguaFranca = {'ta': 'Tamil', 'kn': 'Kannada', 'ml': 'Malayalam', 'te': 'Telegu'}\n",
    "\n",
    "# What do the following do?\n",
    "sorted(LinguaFranca.keys())[0]   # kn\n",
    "LinguaFranca.keys().sort()       # None\n",
    "\n",
    "# Note, use reverse to sort in descending order."
   ]
  },
  {
   "cell_type": "code",
   "execution_count": 96,
   "metadata": {},
   "outputs": [
    {
     "name": "stdout",
     "output_type": "stream",
     "text": [
      "['Krishna', 'Matsya', 'Narasimha', 'Rama', 'Vamana']\n",
      "['Krishna', 'Matsya', 'Narasimha', 'Parashurama', 'Rama', 'Vamana']\n"
     ]
    }
   ],
   "source": [
    "# Mutability side-effects\n",
    "\n",
    "Avatars = ['Matsya', 'Vamana', 'Narasimha', 'Rama', 'Krishna']\n",
    "Vishnu = Avatars\n",
    "\n",
    "Avatars.sort()\n",
    "print Vishnu\n",
    "Avatars.append('Parashurama')\n",
    "Avatars.sort()\n",
    "print Vishnu\n",
    "\n",
    "# The names all refer to the same object in memory.\n",
    "# Methods that mutate the object with any one name\n",
    "# reflect the changes when accesed with any other name.\n",
    "\n",
    "# Ref: http://www.pythontutor.com/\n",
    "# See this in action!"
   ]
  },
  {
   "cell_type": "code",
   "execution_count": 97,
   "metadata": {},
   "outputs": [
    {
     "name": "stdout",
     "output_type": "stream",
     "text": [
      "['Blue', 'Green', 'Indigo', 'Orange', 'Red', 'Violet', 'Yellow']\n",
      "['Violet', 'Indigo', 'Blue', 'Green', 'Yellow', 'Orange', 'Red']\n"
     ]
    }
   ],
   "source": [
    "# Clone a list\n",
    "\n",
    "rainbow = ['Violet', 'Indigo', 'Blue', 'Green', 'Yellow', 'Orange', 'Red']\n",
    "vibgyor = rainbow[:]\n",
    "\n",
    "rainbow.sort()\n",
    "print rainbow\n",
    "print vibgyor\n",
    "\n",
    "# Same result with rainbow.copy"
   ]
  },
  {
   "cell_type": "code",
   "execution_count": 99,
   "metadata": {},
   "outputs": [
    {
     "name": "stdout",
     "output_type": "stream",
     "text": [
      "[['yellow', 'orange'], ['red']]\n",
      "[['yellow', 'orange'], ['red', 'pink']]\n"
     ]
    }
   ],
   "source": [
    "# More side-effects of mutability\n",
    "\n",
    "warmColors = ['yellow', 'orange']\n",
    "hotColors = ['red']\n",
    "\n",
    "brightColors= [warmColors]\n",
    "brightColors.append(hotColors)\n",
    "print brightColors\n",
    "hotColors.append('pink')\n",
    "print brightColors\n",
    "\n",
    "# Remember, names bind to data in memory.\n",
    "\n",
    "# Ref: http://www.pythontutor.com/\n",
    "# See this in action!"
   ]
  },
  {
   "cell_type": "code",
   "execution_count": null,
   "metadata": {},
   "outputs": [],
   "source": [
    "# Even more side-effects of mutability\n",
    "\n",
    "# Do not mutate a list while it is being iterated over.\n",
    "# Unexpected behavior may occur as the iterator isn't\n",
    "# keeping up with all of the changes.\n",
    "\n",
    "# What does the following do? \n",
    "\n",
    "# .."
   ]
  }
 ],
 "metadata": {
  "kernelspec": {
   "display_name": "Python 2",
   "language": "python",
   "name": "python2"
  },
  "language_info": {
   "codemirror_mode": {
    "name": "ipython",
    "version": 2
   },
   "file_extension": ".py",
   "mimetype": "text/x-python",
   "name": "python",
   "nbconvert_exporter": "python",
   "pygments_lexer": "ipython2",
   "version": "2.7.14"
  }
 },
 "nbformat": 4,
 "nbformat_minor": 2
}
