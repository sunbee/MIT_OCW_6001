{
 "cells": [
  {
   "cell_type": "code",
   "execution_count": 1,
   "metadata": {},
   "outputs": [],
   "source": [
    "# Object-Oriented Programming\n",
    "\n",
    "# Prep:\n",
    "# A piece of data is an object.\n",
    "# A function is an object.\n",
    "\n",
    "# Motivating objects:\n",
    "# Objects are data abstraction.\n",
    "\n",
    "# Consider a house.\n",
    "# A house has some general represntation and attributes.\n",
    "# It has an interface for ways to inteact with it.\n",
    "# Attributes could include:\n",
    "#   Area\n",
    "#   No of bedrooms and baths\n",
    "#   Style\n",
    "#   Exterior finish.\n",
    "# Interface could be\n",
    "#   Change the exterior finish.\n",
    "\n",
    "# The interface could hide the details of the implementation.\n",
    "\n",
    "# Consider a list object.\n",
    "\n",
    "# There options to manipulate list include:\n",
    "# l[i], L[i:j], +\n",
    "# min(), max(), len(), del(L[i])\n",
    "# L.append(), L.extend(), L.count(), L.index()\n",
    "# L.insert(), L.remove(), L.sort(), L.reverse, etc.\n",
    "\n",
    "# The internal implementation is abstracted. \n",
    "# How did the author of the sort method choose to\n",
    "# implement it? We don't know. We don't need to \n",
    "# know that in order to use the list in programs\n",
    "# of our own.\n",
    "\n",
    "# Object-Oriented Programming provides a way to \n",
    "# parcel data and behavior. Writing OOP means\n",
    "# inplementing classes. A class is a type of object.\n",
    "# An object is an instance of a class. Every object\n",
    "# of a class has the same behavior. "
   ]
  },
  {
   "cell_type": "code",
   "execution_count": 2,
   "metadata": {},
   "outputs": [
    {
     "name": "stdout",
     "output_type": "stream",
     "text": [
      "3\n"
     ]
    }
   ],
   "source": [
    "class Coordinate (object):\n",
    "    def __init__(self, x, y):\n",
    "        self.x = x\n",
    "        self.y = y\n",
    "    \n",
    "c = Coordinate(3, 4)\n",
    "print c.x\n",
    "\n",
    "# Note: \n",
    "# object .. the arhetype of all classes\n",
    "# __init__ .. a special method that is called when an instance of the class is created\n",
    "# self .. self-referential placeholder. All methods get passed the first argument as self.\n",
    "\n",
    "# This class only helps us keep x and y coordinate together. \n",
    "# Let's give it methods for common coordinate operations."
   ]
  },
  {
   "cell_type": "code",
   "execution_count": 9,
   "metadata": {},
   "outputs": [
    {
     "name": "stdout",
     "output_type": "stream",
     "text": [
      "Distance between c and o is 5.0 as the crow flies.\n",
      "Distance between o and c is 5.0 as the crow flies.\n",
      "5.0\n",
      "<__main__.Coordinate object at 0x00000000043A0E48>\n"
     ]
    }
   ],
   "source": [
    "class Coordinate (object):\n",
    "    def __init__(self, x, y):\n",
    "        self.x = x\n",
    "        self.y = y\n",
    "    def distance(self, other):\n",
    "        dist_x = (self.x - other.x)**2\n",
    "        dist_y = (self.y - other.y)**2\n",
    "        return (dist_x + dist_y)**0.5\n",
    "    \n",
    "c = Coordinate(3, 4)\n",
    "o = Coordinate(0, 0)\n",
    "print \"Distance between c and o is %r as the crow flies.\" % (c.distance(o)) \n",
    "print \"Distance between o and c is %r as the crow flies.\" % (o.distance(c)) \n",
    "print Coordinate.distance(c, o)\n",
    "\n",
    "# Note: Methods behave just like functions with the pattern\n",
    "# of accepting a self object and the dot notation for invocation.\n",
    "# The above method call is equivalent to: Coordinate.distance(c, o)\n",
    "\n",
    "# How about trying to print out the object?\n",
    "\n",
    "print c\n",
    "\n",
    "# That returns a memory location, which isn't a meaningful user experience.\n",
    "# Let's change that."
   ]
  },
  {
   "cell_type": "code",
   "execution_count": 24,
   "metadata": {},
   "outputs": [
    {
     "name": "stdout",
     "output_type": "stream",
     "text": [
      "<3, 4>\n",
      "c is: <__main__.Coordinate object at 0x00000000043A0DD8>\n"
     ]
    }
   ],
   "source": [
    "class Coordinate (object):\n",
    "    def __init__(self, x, y):\n",
    "        self.x = x\n",
    "        self.y = y\n",
    "        \n",
    "    def __str__(self):\n",
    "        return \"<\"+ str(self.x) + \", \" + str(self.y) + \">\"\n",
    "    \n",
    "    def distance(self, other):\n",
    "        dist_x = (self.x - other.x)**2\n",
    "        dist_y = (self.y - other.y)**2\n",
    "        return (dist_x + dist_y)**0.5\n",
    "\n",
    "c = Coordinate(3, 4)\n",
    "print c\n",
    "print \"c is: %r\" % (c) \n",
    "\n",
    "# Note: \n",
    "# __str__ .. implementation is used when print is invoked on an object."
   ]
  },
  {
   "cell_type": "code",
   "execution_count": 26,
   "metadata": {},
   "outputs": [
    {
     "name": "stdout",
     "output_type": "stream",
     "text": [
      "<class '__main__.Coordinate'>\n",
      "<class '__main__.Coordinate'>\n",
      "True\n",
      "False\n",
      "True\n"
     ]
    }
   ],
   "source": [
    "# Use type to enquire about the type of an object.\n",
    "c = Coordinate(3, 4)\n",
    "print type(c)\n",
    "print Coordinate\n",
    "\n",
    "# Use isinstace to check if an object is a particular type.\n",
    "print isinstance(c, Coordinate)\n",
    "print isinstance(c, list)\n",
    "print isinstance(c, object)"
   ]
  },
  {
   "cell_type": "code",
   "execution_count": 27,
   "metadata": {},
   "outputs": [],
   "source": [
    "# Use the special operators provision to implement operations\n",
    "# on classes like: +, -, ==, <. >, len(), print and others\n",
    "\n",
    "# __add__(self, other) .. self + other\n",
    "# __sub__(self, other) .. self - other\n",
    "# __eq__(self, other).. self == other\n",
    "# __lt__(self, other) .. self < other\n",
    "# __len__(self) .. len(self)\n",
    "# __str__(self) .. print self\n",
    "# .. and others"
   ]
  },
  {
   "cell_type": "code",
   "execution_count": 46,
   "metadata": {},
   "outputs": [
    {
     "name": "stdout",
     "output_type": "stream",
     "text": [
      "Got: AssertionError, Pass only integers.\n",
      "1\n",
      "1/2\n",
      "2/4\n",
      "Got: AssertionError, Divide not by zero.\n",
      "0.5\n",
      "0.5\n",
      "2/1\n",
      "2.0\n"
     ]
    }
   ],
   "source": [
    "# Class: Fraction\n",
    "\n",
    "class Fraction(object):\n",
    "    \"\"\"\n",
    "    A class for representing numbers as fractions\n",
    "    \"\"\"\n",
    "    \n",
    "    def __init__(self, nr, dr):\n",
    "        \"\"\"\n",
    "        Accepts numerator and denominator as integers.\n",
    "        \"\"\"\n",
    "        \n",
    "        assert type(nr) == int and type(dr) == int, \"Pass only integers.\"\n",
    "        self.nr = nr\n",
    "        self.dr = dr\n",
    "        \n",
    "    def __str__(self):\n",
    "        \"\"\"\n",
    "        Returns an intuitve rendition of the fraction for viewing.\n",
    "        \"\"\"\n",
    "        \n",
    "        return str(self.nr) + \"/\" + str(self.dr)\n",
    "    \n",
    "    def __add__(self, other):\n",
    "        \"\"\"\n",
    "        Adds two fractions and returns the result as a fraction.\n",
    "        \"\"\"\n",
    "        \n",
    "        res_nr = self.nr + other.nr\n",
    "        res_dr = self.dr + other.dr\n",
    "        return Fraction(res_nr, res_dr)\n",
    "    \n",
    "    def __sub__(self, other):\n",
    "        \"\"\"\n",
    "        Subtracts one fraction from another and returns the result as a fraction.\n",
    "        Mustn't produce a zero division error!\n",
    "        \"\"\"\n",
    "        \n",
    "        res_nr = self.nr - other.nr\n",
    "        res_dr = self.dr - other.dr\n",
    "        \n",
    "        assert res_dr != 0, \"Divide not by zero.\"\n",
    "        \n",
    "        return Fraction(res_nr, res_dr)\n",
    "    \n",
    "    def __float__(self):\n",
    "        \"\"\"\n",
    "        Convert the fraction to a decimal number and return the result.\n",
    "        \"\"\"\n",
    "        \n",
    "        return self.nr/(self.dr*1.0)\n",
    "    \n",
    "    def inverse(self):\n",
    "        \"\"\"\n",
    "        Inverts the fraction and returns the result as a fraction\n",
    "        \"\"\"\n",
    "        \n",
    "        return Fraction(self.dr, self.nr)\n",
    "    \n",
    "\n",
    "f = Fraction(1, 2)\n",
    "try:\n",
    "    Fraction(1.0, 2)\n",
    "except Exception as e:\n",
    "    print \"Got: \" + type(e).__name__ + \", \" + str(e)\n",
    "print f.nr\n",
    "print f\n",
    "print f + f\n",
    "try:\n",
    "    print f - f\n",
    "except Exception as e:\n",
    "    print \"Got: \" + type(e).__name__ + \", \" + str(e)\n",
    "print float(f)\n",
    "print float(f+f)\n",
    "print f.inverse()\n",
    "print float(f.inverse())"
   ]
  },
  {
   "cell_type": "code",
   "execution_count": null,
   "metadata": {},
   "outputs": [],
   "source": []
  },
  {
   "cell_type": "code",
   "execution_count": null,
   "metadata": {},
   "outputs": [],
   "source": []
  }
 ],
 "metadata": {
  "kernelspec": {
   "display_name": "Python 2",
   "language": "python",
   "name": "python2"
  },
  "language_info": {
   "codemirror_mode": {
    "name": "ipython",
    "version": 2
   },
   "file_extension": ".py",
   "mimetype": "text/x-python",
   "name": "python",
   "nbconvert_exporter": "python",
   "pygments_lexer": "ipython2",
   "version": "2.7.14"
  }
 },
 "nbformat": 4,
 "nbformat_minor": 2
}
