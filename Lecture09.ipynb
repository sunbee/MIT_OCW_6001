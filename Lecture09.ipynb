{
 "cells": [
  {
   "cell_type": "code",
   "execution_count": 1,
   "metadata": {},
   "outputs": [],
   "source": [
    "# Classes (Cont'd)\n",
    "\n",
    "# Use getters/setters to access attributes of a class\n",
    "# from outside the class (i.e. in the environment in which\n",
    "# the class is a variable.)"
   ]
  },
  {
   "cell_type": "code",
   "execution_count": 6,
   "metadata": {},
   "outputs": [
    {
     "name": "stdout",
     "output_type": "stream",
     "text": [
      "3\n",
      "I got a pet named 'Jaba' who is 3 years of age.\n",
      "Jaba is 3\n"
     ]
    }
   ],
   "source": [
    "class Animal(object):\n",
    "    def __init__(self, age):\n",
    "        self.age = age\n",
    "        self.name = None\n",
    "        \n",
    "    def get_age(self):\n",
    "        return self.age\n",
    "        \n",
    "    def get_name(self):\n",
    "        return self.name\n",
    "    \n",
    "    def set_age(self, age):\n",
    "        self.age = age\n",
    "        \n",
    "    def set_name(self, name):\n",
    "        self.name = name\n",
    "        \n",
    "    def __str__(self):\n",
    "        return self.name + \" is \" + str(self.age)\n",
    "        \n",
    "pet = Animal(3)\n",
    "print Jaba.get_age()\n",
    "pet.set_name(\"Jaba\")\n",
    "print \"I got a pet named %r who is %r years of age.\" % (pet.get_name(), pet.get_age())\n",
    "print pet"
   ]
  },
  {
   "cell_type": "code",
   "execution_count": 7,
   "metadata": {},
   "outputs": [],
   "source": [
    "# Why use get/set methods in implementatuon?\n",
    "\n",
    "# This style is aligned with the principle of abstraction.\n",
    "# Future implemnatation of internals may change.\n",
    "# Use of get/set methods insulates consumers from \n",
    "# implementation changes.\n",
    "\n",
    "# Python isn't a good gatekeeper! \n",
    "\n",
    "# You can:\n",
    "# - access an object's attributes directly\n",
    "# - write over an object's attributes directly\n",
    "# - create new attributes outside the class definition\n",
    "\n",
    "# To avoid complications arising out these, recommended practice is\n",
    "# always use get/set methods to access an object's attributes in \n",
    "# read/write mode respectively."
   ]
  },
  {
   "cell_type": "code",
   "execution_count": 39,
   "metadata": {},
   "outputs": [
    {
     "name": "stdout",
     "output_type": "stream",
     "text": [
      "Got: AssertionError Animal has no name.\n",
      "name: \n",
      " age: 3\n",
      "name: Jelly\n",
      " age: 3\n"
     ]
    }
   ],
   "source": [
    "# Use default arguments for class attributes.\n",
    "\n",
    "class Animal(object):\n",
    "    def __init__(self, age):\n",
    "        self.age = age\n",
    "        self.name = None\n",
    "        \n",
    "    def get_age(self):\n",
    "        return self.age\n",
    "        \n",
    "    def get_name(self):\n",
    "        return self.name\n",
    "    \n",
    "    def set_age(self, age):\n",
    "        self.age = age\n",
    "        \n",
    "    def set_name(self, name=\"\"):\n",
    "        self.name = name\n",
    "        \n",
    "    def __str__(self):\n",
    "        assert self.name is not None, \"Animal has no name.\"\n",
    "        return \"name: \" + self.name + \"\\n age: \" + str(self.age)\n",
    "\n",
    "pet = Animal(3)\n",
    "try:\n",
    "    print pet\n",
    "except Exception as e:\n",
    "    print \"Got: \" + type(e).__name__, str(e)\n",
    "pet.set_name()\n",
    "print pet\n",
    "pet.set_name(\"Jelly\")\n",
    "print pet"
   ]
  },
  {
   "cell_type": "code",
   "execution_count": 41,
   "metadata": {},
   "outputs": [],
   "source": [
    "# Inheritance\n",
    "\n",
    "# Inheritance reflects a parent-child relationship. Inheritance reflects \n",
    "# specialization. For example, Animal may have child classes person, \n",
    "# rabbit and cat. A person may have an additional attribute such as a \n",
    "# list of friends that a rabbit or cat may not have. A cat may have an \n",
    "# additional attribute such as number of lives left, that a person or \n",
    "# rabbit may not have.\n",
    "\n",
    "# In general, a child class inherits all the data and behavior of the parent.\n",
    "# Among child classes, there may be significant differences in data and\n",
    "# behavior, through extension of attributes and methods differently for\n",
    "# each child class.\n",
    "\n",
    "# A child class implementation may:\n",
    "# - add more information\n",
    "# - add more behavior\n",
    "# - override old behavior"
   ]
  },
  {
   "cell_type": "code",
   "execution_count": 46,
   "metadata": {},
   "outputs": [
    {
     "name": "stdout",
     "output_type": "stream",
     "text": [
      "cat: Jenna\n",
      "age: 3\n",
      "Parent class cannot access child class' methods.\n"
     ]
    }
   ],
   "source": [
    "class Animal(object):\n",
    "    def __init__(self, age):\n",
    "        self.age = age\n",
    "        self.name = None\n",
    "        \n",
    "    def get_age(self):\n",
    "        return self.age\n",
    "        \n",
    "    def get_name(self):\n",
    "        return self.name\n",
    "    \n",
    "    def set_age(self, age):\n",
    "        self.age = age\n",
    "        \n",
    "    def set_name(self, name=\"\"):\n",
    "        self.name = name\n",
    "        \n",
    "    def __str__(self):\n",
    "        assert self.name is not None, \"Animal has no name.\"\n",
    "        return \"name: \" + self.name + \"\\n age: \" + str(self.age)\n",
    "    \n",
    "class Cat(Animal):\n",
    "    def speak(self):\n",
    "        print \"meow\"\n",
    "    \n",
    "    def __str__(self):\n",
    "        return \"cat: \" + self.name + \"\\nage: \" + str(self.age)\n",
    "        \n",
    "Jen = Cat(3)\n",
    "Jen.set_name(\"Jenna\")\n",
    "print Jen\n",
    "Dawg = Animal(7)\n",
    "try:\n",
    "    Dawg.speak()\n",
    "except:\n",
    "    print \"Parent class cannot access child class' methods.\""
   ]
  },
  {
   "cell_type": "code",
   "execution_count": 55,
   "metadata": {},
   "outputs": [
    {
     "name": "stdout",
     "output_type": "stream",
     "text": [
      "person: Abhimanyu\n",
      "   age: 35\n",
      "25 years difference\n",
      "Rajan\n",
      "60\n",
      "hello\n",
      "Abhimanyu\n",
      "35\n",
      "hello\n"
     ]
    }
   ],
   "source": [
    "class Person(Animal):\n",
    "    def __init__(self, name, age):\n",
    "        Animal.__init__(self, age)\n",
    "        self.set_name(name)\n",
    "        self.friends = []\n",
    "    \n",
    "    def get_friends(self):\n",
    "        return self.friends\n",
    "    \n",
    "    def add_friend(self, friend_name):\n",
    "        if friend_name not in self.friends:\n",
    "            self.friends.append(friend_name)\n",
    "        \n",
    "    def speak(self):\n",
    "        print \"hello\"\n",
    "        \n",
    "    def age_diference(self, other):\n",
    "        print \"%r years difference\" % (abs(self.age - other.age))\n",
    "        \n",
    "    def __str__(self):\n",
    "        return \"person: \" + self.name + \"\\n   age: \" + str(self.age)\n",
    "\n",
    "Abhimanyu = Person(\"Abhimanyu\", 35)\n",
    "Rajan = Person(\"Rajan\", 60)\n",
    "print Abhimanyu\n",
    "Rajan.age_diference(Abhimanyu)\n",
    "print Rajan.get_name()\n",
    "print Rajan.get_age()\n",
    "Rajan.speak()\n",
    "print Abhimanyu.get_name()\n",
    "print Abhimanyu.get_age()\n",
    "Abhimanyu.speak()\n",
    "\n",
    "# Note, when using inheritance, utilize to the maximum extent\n",
    "# the methods already implemented in the parent class."
   ]
  },
  {
   "cell_type": "code",
   "execution_count": 66,
   "metadata": {},
   "outputs": [
    {
     "name": "stdout",
     "output_type": "stream",
     "text": [
      "student: Anjali\n",
      "    age: 17\n",
      "  major: chemical engineering\n",
      "Anjali says: I have homework.\n",
      "student: Anjali\n",
      "    age: 17\n",
      "  major: mechanical engineering\n",
      "['Tunga']\n"
     ]
    }
   ],
   "source": [
    "import random\n",
    "\n",
    "class Student(Person):\n",
    "    def __init__(self, name, age, major=None):\n",
    "        Person.__init__(self, name, age)\n",
    "        self.major = major\n",
    "    \n",
    "    def change_major(self, major):\n",
    "        self.major = major\n",
    "        \n",
    "    def speak(self):\n",
    "        r = random.random()\n",
    "        if r < 0.25:\n",
    "            print \"I have homework.\"\n",
    "        elif r >= 0.25 and r < 0.5:\n",
    "            print \"I should eat.\"\n",
    "        elif r >= 0.5 and r < 0.75:\n",
    "            print \"I need to sleep.\"\n",
    "        else:\n",
    "            print \"I am watching tv.\"\n",
    "        \n",
    "    def __str__(self):\n",
    "        return \"student: \" + self.name + \"\\n    age: \" + str(self.age) + \"\\n  major: \" + self.major\n",
    "        \n",
    "Anjali = Student(\"Anjali\", 17, \"chemical engineering\")\n",
    "print Anjali\n",
    "print \"Anjali says:\",\n",
    "Anjali.speak()\n",
    "Anjali.change_major(\"mechanical engineering\")\n",
    "print Anjali\n",
    "Anjali.add_friend(\"Tunga\")\n",
    "print Anjali.get_friends()\n",
    "    \n",
    "        "
   ]
  },
  {
   "cell_type": "code",
   "execution_count": null,
   "metadata": {},
   "outputs": [],
   "source": []
  }
 ],
 "metadata": {
  "kernelspec": {
   "display_name": "Python 2",
   "language": "python",
   "name": "python2"
  },
  "language_info": {
   "codemirror_mode": {
    "name": "ipython",
    "version": 2
   },
   "file_extension": ".py",
   "mimetype": "text/x-python",
   "name": "python",
   "nbconvert_exporter": "python",
   "pygments_lexer": "ipython2",
   "version": "2.7.14"
  }
 },
 "nbformat": 4,
 "nbformat_minor": 2
}
