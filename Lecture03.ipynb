{
 "cells": [
  {
   "cell_type": "code",
   "execution_count": 1,
   "metadata": {},
   "outputs": [],
   "source": [
    "# Agenda\n",
    "# Manipulate strings\n",
    "# Guess and check (algorithm)\n",
    "# Approximate and refine (algorithm)\n",
    "# Bisect and locate (algorithm)"
   ]
  },
  {
   "cell_type": "code",
   "execution_count": 2,
   "metadata": {},
   "outputs": [],
   "source": [
    "# Functions and Methods\n",
    "# A function is a procedure that takes one or more inputs and processes it and returns the result.\n",
    "# A method is a property of an object that performs an operation upon the object, typically of type\n",
    "#   CREATE\n",
    "#   RETRIEVE\n",
    "#   UPDATE \n",
    "#   DELETE"
   ]
  },
  {
   "cell_type": "code",
   "execution_count": 3,
   "metadata": {},
   "outputs": [
    {
     "data": {
      "text/plain": [
       "6"
      ]
     },
     "execution_count": 3,
     "metadata": {},
     "output_type": "execute_result"
    }
   ],
   "source": [
    "# A beginner's function implemented for string\n",
    "# The function 'len' accepts a string argument and returns the length.\n",
    "# The string can be any valid combination of characters - letters, digits, special characters, whitespace and so on.\n",
    "name = \"Sanjay\"\n",
    "len(name)"
   ]
  },
  {
   "cell_type": "code",
   "execution_count": 8,
   "metadata": {},
   "outputs": [
    {
     "name": "stdout",
     "output_type": "stream",
     "text": [
      "S\n",
      "a\n",
      "n\n",
      "j\n",
      "y\n",
      "a\n",
      "j\n"
     ]
    }
   ],
   "source": [
    "# Retrive a character by position with indexes\n",
    "name = \"Sanjay\"\n",
    "print name[0]   # S, indexing starts with 0\n",
    "print name[1]   # a\n",
    "print name[2]   # n\n",
    "print name[3]   # j\n",
    "# print name[6]   # Out of bounds\n",
    "print name[-1]  # y, negative indexing is permissible, and counts off from the end\n",
    "print name[-2]  # a\n",
    "print name[-3]  # j\n"
   ]
  },
  {
   "cell_type": "code",
   "execution_count": 21,
   "metadata": {},
   "outputs": [
    {
     "name": "stdout",
     "output_type": "stream",
     "text": [
      "jay\n",
      "jy\n",
      "Sanjay\n",
      "Sanjay\n",
      "Sna\n",
      "yajnaS\n",
      "yajnaS\n",
      "yj\n"
     ]
    }
   ],
   "source": [
    "# Extract a slice with range \n",
    "# Specify start, stop and step for retrival by index\n",
    "name = \"Sanjay\"\n",
    "print name[3:6]      # jay,    start and stop, upto, but not including, the stop index.\n",
    "print name[3:6:2]    # jy,     start, stop and step\n",
    "print name[::]       # Sanjay, same as [0:len(s)+1:1]\n",
    "print name[0:7:1]    # Sanjay\n",
    "print name[::2]      # Sna\n",
    "print name[::-1]     # yajnaS, inverse of string, same as [-1:-len(s)-1:-1]\n",
    "print name[-1:-7:-1] # yajnaS\n",
    "print name[5:1:-2]   # yj,     step backwards "
   ]
  },
  {
   "cell_type": "code",
   "execution_count": 24,
   "metadata": {},
   "outputs": [
    {
     "name": "stdout",
     "output_type": "stream",
     "text": [
      "yello\n"
     ]
    }
   ],
   "source": [
    "# Strings are immutable\n",
    "s = \"hello\"\n",
    "# s[0] = 'y'    # Not allowed\n",
    "s = 'y' + s[1:] # Reassignment permitted\n",
    "print s"
   ]
  },
  {
   "cell_type": "code",
   "execution_count": 32,
   "metadata": {},
   "outputs": [
    {
     "name": "stdout",
     "output_type": "stream",
     "text": [
      "Pythonic:\n",
      "Has an 'a' or an 'i'\n",
      "Has an 'a' or an 'i'\n",
      "Has an 'a' or an 'i'\n",
      "Has an 'a' or an 'i'\n",
      "Haw Ribble\n",
      "Has an 'a' or an 'i'\n",
      "Has an 'a' or an 'i'\n",
      "Has an 'a' or an 'i'\n",
      "Has an 'a' or an 'i'\n"
     ]
    }
   ],
   "source": [
    "# Iteate over characters in a string 'pythonically'\n",
    "name = 'Sabyasachi'\n",
    "print \"Pythonic:\"\n",
    "for char in name:\n",
    "    if (char == 'a' or char == 'i'):\n",
    "        print \"Has an 'a' or an 'i'\"\n",
    "print \"Haw Ribble\"\n",
    "for i in range(len(name)):\n",
    "    char = name[i]\n",
    "    if (char == 'a' or char == 'i'):\n",
    "        print \"Has an 'a' or an 'i'\"\n"
   ]
  },
  {
   "cell_type": "code",
   "execution_count": 41,
   "metadata": {},
   "outputs": [
    {
     "name": "stdout",
     "output_type": "stream",
     "text": [
      "Give me a word and I will cheer for you! Say: Klutz\n",
      "What's your enthusiasm level? Say: 2\n",
      "Give me a  'K'! 'K'\n",
      "Give me an 'l'! 'l'\n",
      "Give me a  'u'! 'u'\n",
      "Give me a  't'! 't'\n",
      "Give me a  'z'! 'z'\n",
      "What does that spell?\n",
      "Klutz!!!\n",
      "Klutz!!!\n"
     ]
    }
   ],
   "source": [
    "# Attack of he robot cheerleaders!\n",
    "\n",
    "an_letters = \"aefhilmnorsxAEFHILMNORSX\"\n",
    "\n",
    "word = raw_input(\"Give me a word and I will cheer for you! Say: \")\n",
    "times = int(raw_input(\"What's your enthusiasm level? Say: \"))\n",
    "\n",
    "i = 0\n",
    "while (i < len(word)):\n",
    "    char = word[i]\n",
    "    if char in list(an_letters):\n",
    "        print \"Give me an %r! %r\" % (char, char)\n",
    "    else:\n",
    "        print \"Give me a  %r! %r\" % (char, char)\n",
    "    i = i + 1\n",
    "print \"What does that spell?\"\n",
    "for i in range(times):\n",
    "    print word + \"!!!\"\n"
   ]
  },
  {
   "cell_type": "code",
   "execution_count": 42,
   "metadata": {},
   "outputs": [
    {
     "name": "stdout",
     "output_type": "stream",
     "text": [
      "Give me a word and I will cheer for you! Say: Tesla\n",
      "What's your enthusiasm level? Say: 2\n",
      "Give me a  'T'! 'T'\n",
      "Give me an 'e'! 'e'\n",
      "Give me an 's'! 's'\n",
      "Give me an 'l'! 'l'\n",
      "Give me an 'a'! 'a'\n",
      "What does that spell?\n",
      "Tesla!!!\n",
      "Tesla!!!\n"
     ]
    }
   ],
   "source": [
    "# Return of the robot cheerleaders!\n",
    "\n",
    "an_letters = \"aefhilmnorsxAEFHILMNORSX\"\n",
    "\n",
    "word = raw_input(\"Give me a word and I will cheer for you! Say: \")\n",
    "times = int(raw_input(\"What's your enthusiasm level? Say: \"))\n",
    "\n",
    "for char in word:\n",
    "    if char in list(an_letters):\n",
    "        print \"Give me an %r! %r\" % (char, char)\n",
    "    else:\n",
    "        print \"Give me a  %r! %r\" % (char, char)\n",
    "    \n",
    "print \"What does that spell?\"\n",
    "for i in range(times):\n",
    "    print word + \"!!!\"\n"
   ]
  },
  {
   "cell_type": "code",
   "execution_count": 61,
   "metadata": {},
   "outputs": [
    {
     "name": "stdout",
     "output_type": "stream",
     "text": [
      "You gave me an imperfect cube. How dare you sir!\n"
     ]
    }
   ],
   "source": [
    "# Algorithm: Guess and check\n",
    "# Find the cube root of a number\n",
    "# Handle negative numbers and imperfect cubes\n",
    "\n",
    "cube = -85\n",
    "for guess in range(abs(cube)+1):\n",
    "    if guess**3 >= abs(cube):\n",
    "        break\n",
    "\n",
    "if guess**3 != abs(cube):\n",
    "    print \"You gave me an imperfect cube. How dare you sir!\"\n",
    "else:\n",
    "    if cube < 0:\n",
    "        guess = -guess\n",
    "    print \"The cube root is: %r\" % guess"
   ]
  },
  {
   "cell_type": "code",
   "execution_count": 74,
   "metadata": {},
   "outputs": [
    {
     "name": "stdout",
     "output_type": "stream",
     "text": [
      "It took 1000000 iterations to get to final guess 10000.000000171856\n",
      "Found no cube. Get yourself a cubist.\n"
     ]
    }
   ],
   "source": [
    "# Algorithm: Approximate\n",
    "# Find the cube root of a positive number\n",
    "# Guess until the approximation is close enough\n",
    "# where epsilon determines how close is close enough.\n",
    "# Until then, keep incrementing the guess.\n",
    "# Size of the increment represents a trade-off between\n",
    "# accuracy and speed.\n",
    "\n",
    "cube = 27\n",
    "cube = 8120601\n",
    "cube = 10000\n",
    "guess = 0.0\n",
    "increment = 0.0001\n",
    "epsilon = 0.01\n",
    "iteration_limit = 1000000\n",
    "iteration_count = 0\n",
    "\n",
    "while (abs(guess**3 - cube) >= epsilon and iteration_count < iteration_limit):\n",
    "    iteration_count += 1\n",
    "    guess += epsilon\n",
    "print \"It took %r iterations to get to final guess %r\" % (iteration_count, guess)\n",
    "if abs(guess**3 - cube) >= epsilon:\n",
    "    print \"Found no cube. Get yourself a cubist.\"\n",
    "else:\n",
    "    print \"Found the cube as %r. Computer 1, Man 0.\" % guess\n",
    "    \n",
    "\n",
    "# The choice of parameters may produce an endless loop \n",
    "# checked only by the limit on number of iterations.\n",
    "# This happens with cube = 10000 and epsilon = 0.01 and incement = 0.0001\n",
    "# To see why, plot the function y = x^3.\n",
    "# On x-axis, imagine tick-marks by increment.\n",
    "# Imagine a horizontal line passing through the y for any x.\n",
    "# The hops in x are regularly spaced as shown by the tick-marks.\n",
    "# The hops in y are non-linear and get larger and larger \n",
    "# following steepning of the curve.\n",
    "# So at some choice of parameters, a hop in x over-steps the epsilon.\n",
    "# So how do we deal with this?"
   ]
  },
  {
   "cell_type": "code",
   "execution_count": 75,
   "metadata": {},
   "outputs": [
    {
     "name": "stdout",
     "output_type": "stream",
     "text": [
      "It took 1000000 iterations to get to final guess 10000.000000171856\n",
      "Found no cube. Get yourself a cubist.\n"
     ]
    }
   ],
   "source": [
    "cube = 27\n",
    "cube = 8120601\n",
    "cube = 10000\n",
    "guess = 0.0\n",
    "increment = 0.0001\n",
    "epsilon = 0.01\n",
    "iteration_count = 0\n",
    "\n",
    "while (abs(guess**3 - cube) >= epsilon and guess < cube):\n",
    "    iteration_count += 1\n",
    "    guess += epsilon\n",
    "print \"It took %r iterations to get to final guess %r\" % (iteration_count, guess)\n",
    "if abs(guess**3 - cube) >= epsilon:\n",
    "    print \"Found no cube. Get yourself a cubist.\"\n",
    "else:\n",
    "    print \"Found the cube as %r. Computer 1, Man 0.\" % guess"
   ]
  },
  {
   "cell_type": "code",
   "execution_count": 86,
   "metadata": {},
   "outputs": [
    {
     "name": "stdout",
     "output_type": "stream",
     "text": [
      "21.54434099793434 is close enough to cube of 10000\n",
      "Took me just 28 steps to get there.\n"
     ]
    }
   ],
   "source": [
    "# Algorithm: Bisect (Divide and conquer!)\n",
    "\n",
    "cube = 27\n",
    "cube = 10000\n",
    "epsilon = 0.01\n",
    "low = 0\n",
    "high = cube\n",
    "guess = (low + high)/2\n",
    "iteration_count = 0\n",
    "iteration_limit = 999\n",
    "\n",
    "while abs(guess**3 - cube) >= epsilon and iteration_count < iteration_limit:\n",
    "    if guess**3 > cube:\n",
    "        high = guess\n",
    "    else:\n",
    "        low = guess\n",
    "    guess = (high + low)/2.0\n",
    "    iteration_count += 1\n",
    "print \"%r is close enough to cube of %r\" % (guess, cube)\n",
    "print \"Took me just %r steps to get there.\" % iteration_count, \n",
    "\n",
    "# Works on for positive cubes\n",
    "# Modify to work with negative cubes\n",
    "# Modify to work with cube between 0 and 1"
   ]
  },
  {
   "cell_type": "code",
   "execution_count": null,
   "metadata": {},
   "outputs": [],
   "source": [
    "\n"
   ]
  },
  {
   "cell_type": "code",
   "execution_count": null,
   "metadata": {},
   "outputs": [],
   "source": []
  }
 ],
 "metadata": {
  "kernelspec": {
   "display_name": "Python 2",
   "language": "python",
   "name": "python2"
  },
  "language_info": {
   "codemirror_mode": {
    "name": "ipython",
    "version": 2
   },
   "file_extension": ".py",
   "mimetype": "text/x-python",
   "name": "python",
   "nbconvert_exporter": "python",
   "pygments_lexer": "ipython2",
   "version": "2.7.14"
  }
 },
 "nbformat": 4,
 "nbformat_minor": 2
}
