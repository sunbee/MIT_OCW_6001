{
 "cells": [
  {
   "cell_type": "code",
   "execution_count": 1,
   "metadata": {},
   "outputs": [],
   "source": [
    "# What do you read my Lord? Words, words, words!"
   ]
  },
  {
   "cell_type": "code",
   "execution_count": 2,
   "metadata": {},
   "outputs": [
    {
     "name": "stdout",
     "output_type": "stream",
     "text": [
      "HowdyUniverse\n",
      "Howdy Universe\n"
     ]
    }
   ],
   "source": [
    "# A string is a sequence of characters - numbers, characters, special characters, whitespace and so on.\n",
    "hi = \"Howdy\"\n",
    "name = \"Universe\"\n",
    "print hi + name\n",
    "print hi + \" \" + name"
   ]
  },
  {
   "cell_type": "code",
   "execution_count": 3,
   "metadata": {},
   "outputs": [
    {
     "name": "stdout",
     "output_type": "stream",
     "text": [
      "Howdy Universe Universe Universe\n"
     ]
    }
   ],
   "source": [
    "# Computers never behave unexpectedly! \n",
    "print hi + (\" \" + name) * 3\n",
    "\n",
    "# Or do they?"
   ]
  },
  {
   "cell_type": "code",
   "execution_count": 4,
   "metadata": {},
   "outputs": [
    {
     "name": "stdout",
     "output_type": "stream",
     "text": [
      "x is 9\n",
      "x is 9\n"
     ]
    }
   ],
   "source": [
    "# Stringing up numbers\n",
    "x = 9\n",
    "xString = str(x)\n",
    "print \"x is\", x           # Print a number (spacer provided)\n",
    "print \"x is \" + xString   # Concatenate strings and print\n",
    "# Or numbering strings?"
   ]
  },
  {
   "cell_type": "code",
   "execution_count": 5,
   "metadata": {},
   "outputs": [
    {
     "name": "stdout",
     "output_type": "stream",
     "text": [
      "Humor me. Just type the number 7: 7\n",
      "I multipled your input by 3 to get 777\n",
      "Remember that raw input is a string.\n",
      "\n",
      "This time, I will cast your input.\n",
      "Humor me. Just type the number 7: 7\n",
      "I multipled your input by 3 to get 21\n",
      "\n",
      "You can also cast to other types, like float or bool.\n"
     ]
    }
   ],
   "source": [
    "# The awesomeness of CLI\n",
    "# CLI stands for Command Line Interface\n",
    "# Prompt the user for input.\n",
    "# Input is always a string! (Trip Hazard!)\n",
    "\n",
    "input = raw_input(\"Humor me. Just type the number 7: \")\n",
    "print \"I multipled your input by 3 to get\", input*3 \n",
    "print \"Remember that raw input is a string.\"\n",
    "\n",
    "print \"\\nThis time, I will cast your input.\"\n",
    "input = int(raw_input(\"Humor me. Just type the number 7: \"))\n",
    "print \"I multipled your input by 3 to get\", input*3 \n",
    "print \"\\nYou can also cast to other types, like float or bool.\""
   ]
  },
  {
   "cell_type": "code",
   "execution_count": 6,
   "metadata": {},
   "outputs": [
    {
     "name": "stdout",
     "output_type": "stream",
     "text": [
      "Is i greater than j? False\n",
      "Is i lesser than j? True\n",
      "Is i equal to j? False\n",
      "Is i not equal to j? True\n",
      "Is a greater than b? False\n",
      "Is bull greater than bear? True\n"
     ]
    }
   ],
   "source": [
    "# The best of times, the worst of times. \n",
    "# How to compare?\n",
    "i = 7\n",
    "j = 9\n",
    "print \"Is i greater than j?\", i >j\n",
    "print \"Is i lesser than j?\", i < j\n",
    "print \"Is i equal to j?\", i == j\n",
    "print \"Is i not equal to j?\", i != j\n",
    "print \"Is a greater than b?\", \"a\" > \"b\"\n",
    "print \"Is bull greater than bear?\", \"bull\" > \"bear\"\n",
    "\n",
    "# For string comparisons, think about the order\n",
    "# in which strings would appear in a dictionary."
   ]
  },
  {
   "cell_type": "code",
   "execution_count": 7,
   "metadata": {},
   "outputs": [
    {
     "name": "stdout",
     "output_type": "stream",
     "text": [
      "Please enter a number for i: 2\n",
      "Please enter a number for j: 3\n",
      "Size matters.\n",
      "Thanks for your participation in this social experiment.\n"
     ]
    }
   ],
   "source": [
    "# Two words diverged in the wood.\n",
    "# How to control the flow of information?\n",
    "# Walls and valves!\n",
    "\n",
    "# Scenario:\n",
    "# check my_speed\n",
    "# if my_speed > posted_speed_limit\n",
    "#    ease_up_on_the_gas_pedal\n",
    "# else my_speed < posted_speed_limit\n",
    "#    step_on_the_gas\n",
    "# How about check for cop's presence? ;)\n",
    "\n",
    "i = float(raw_input(\"Please enter a number for i: \"))\n",
    "j = float(raw_input(\"Please enter a number for j: \"))\n",
    "if (i == j):\n",
    "    print \"The numbers i and j are the same and equal to\", i\n",
    "    if (j != 0):\n",
    "        print \"The ratio of i/j is\", i/j\n",
    "elif (i < j):\n",
    "    print \"Size matters.\"\n",
    "else:\n",
    "    print \"But technique matters more.\"\n",
    "print \"Thanks for your participation in this social experiment.\"\n",
    "\n",
    "# Note,\n",
    "# 1. Nested conditionals are allowed.\n",
    "# 2. Indentation identifies the branch that a block of code belongs to.\n",
    "    "
   ]
  },
  {
   "cell_type": "code",
   "execution_count": 8,
   "metadata": {},
   "outputs": [
    {
     "name": "stdout",
     "output_type": "stream",
     "text": [
      "The woods are lovely dark and deep. Which way to wanna go - left or right? r\n",
      "Congratulations! You got wood.\n"
     ]
    }
   ],
   "source": [
    "# Legend of Zelda\n",
    "# Basic concept: Enter the woods from left to right. \n",
    "# Two action: Go right (i.e. forward), go left (i.e. backward).\n",
    "# If user goes right, set the background to woods.\n",
    "# If user goes left, set the background to exit background.\n",
    "# Implement using nested if..else?\n",
    "# How do we know how deeply the if..else should be nested?\n",
    "# Gotcha! Enter loops.\n",
    "\n",
    "n = raw_input(\"The woods are lovely dark and deep. Which way to wanna go - left or right? \")\n",
    "while (n == \"right\"):\n",
    "    n = raw_input(\"The woods are lovely dark and deep. Which way to wanna go - left or right? \")\n",
    "print \"Congratulations! You got wood.\"\n"
   ]
  },
  {
   "cell_type": "code",
   "execution_count": 13,
   "metadata": {},
   "outputs": [
    {
     "name": "stdout",
     "output_type": "stream",
     "text": [
      "You are in the Lost Forest\n",
      "****************\n",
      "****************\n",
      " :)\n",
      "****************\n",
      "****************\n",
      "Go left or right? right\n",
      "You are in the Lost Forest\n",
      "****************\n",
      "****************\n",
      "  :(\n",
      "****************\n",
      "****************\n",
      "Go left or right? right\n",
      "You are in the Lost Forest\n",
      "****************\n",
      "****************\n",
      "  :(\n",
      "****************\n",
      "****************\n",
      "Go left or right? right\n",
      "You are in the Lost Forest\n",
      "****************\n",
      "****************\n",
      "  :(\n",
      "****************\n",
      "****************\n",
      "Go left or right? right\n",
      "You are in the Lost Forest\n",
      "****************\n",
      "****************\n",
      "  :(\n",
      "****************\n",
      "****************\n",
      "Go left or right? left\n",
      "\n",
      "You got out of the Lost Forest!\n",
      "\\o/\n",
      "Your attempts: 4\n"
     ]
    }
   ],
   "source": [
    "# Zelda on steroids.\n",
    "screen_saver = \"\"\"You are in the Lost Forest\n",
    "****************\n",
    "****************\n",
    " :)\n",
    "****************\n",
    "****************\n",
    "Go left or right? \"\"\"\n",
    "\n",
    "run_saver = \"\"\"You are in the Lost Forest\n",
    "****************\n",
    "****************\n",
    "  :(\n",
    "****************\n",
    "****************\n",
    "Go left or right? \"\"\"\n",
    "\n",
    "count = 0\n",
    "n = raw_input(screen_saver)\n",
    "while n == \"right\" or n == \"Right\":\n",
    "    n = raw_input(run_saver)\n",
    "    count += 1\n",
    "print \"\\nYou got out of the Lost Forest!\\n\\o/\"\n",
    "print \"Your attempts:\", count\n",
    "\n",
    "# Beware the infinite loop!"
   ]
  },
  {
   "cell_type": "code",
   "execution_count": 16,
   "metadata": {},
   "outputs": [
    {
     "name": "stdout",
     "output_type": "stream",
     "text": [
      "Evalutes to 24\n",
      "Evaluates to 21\n"
     ]
    }
   ],
   "source": [
    "# Keeping a counter is kinda clumsy!\n",
    "# What if the loop could run a set number of times?\n",
    "# Or, over numbers in a range?\n",
    "# Gotcha! Enter \"for\" loops.\n",
    "# Commonly used with the range() function.\n",
    "\n",
    "# This is what the range() function looks like. \n",
    "#  range(start, stop, step)\n",
    "# It requires 'stop' at a minimum.\n",
    "\n",
    "# What does this do?\n",
    "mySum = 0\n",
    "for i in range(7, 10):\n",
    "    mySum += i\n",
    "print \"Evalutes to\", mySum\n",
    "# Note:\n",
    "# When two numbers are passed to range,\n",
    "# these are start and stop\n",
    "\n",
    "# What does this do?\n",
    "mySum = 0\n",
    "for i in range(5, 11, 2):\n",
    "    mySum += i\n",
    "print \"Evaluates to\", mySum\n",
    "# Note:\n",
    "# Range goes upto 1 shy of stop.\n",
    "\n",
    "# Note:\n",
    "# Range accepts only integers."
   ]
  },
  {
   "cell_type": "code",
   "execution_count": 14,
   "metadata": {},
   "outputs": [],
   "source": [
    "# Move fast and break things.\n",
    "# How about a mechanism to exit a loop,\n",
    "# depending on a pre-defined condition being met.\n",
    "# This is acheived with 'break' and\n",
    "# gives an additional layer of control.\n",
    "\n",
    "# Use while loops to manage uncertainty about the number of iterations.\n",
    "# Use for loops when the number of iterations is known.\n",
    "# Interrupt a loop using 'break' upon firing a set trigger.\n",
    "# Provide a counter in a while loop to keep track.\n",
    "# Beware the infinite while loop condition."
   ]
  },
  {
   "cell_type": "code",
   "execution_count": null,
   "metadata": {},
   "outputs": [],
   "source": []
  }
 ],
 "metadata": {
  "kernelspec": {
   "display_name": "Python 2",
   "language": "python",
   "name": "python2"
  },
  "language_info": {
   "codemirror_mode": {
    "name": "ipython",
    "version": 2
   },
   "file_extension": ".py",
   "mimetype": "text/x-python",
   "name": "python",
   "nbconvert_exporter": "python",
   "pygments_lexer": "ipython2",
   "version": "2.7.14"
  }
 },
 "nbformat": 4,
 "nbformat_minor": 2
}
