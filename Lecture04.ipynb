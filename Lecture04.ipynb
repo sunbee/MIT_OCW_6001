{
 "cells": [
  {
   "cell_type": "code",
   "execution_count": null,
   "metadata": {},
   "outputs": [],
   "source": [
    "# Functions\n",
    "# A tool to achieve decomposition and abstraction.\n",
    "\n",
    "# Example: Projector\n",
    "\n",
    "# Abstraction:\n",
    "# We can use a projector without knowing details about how it works.\n",
    "# We don't need to know these details of implementation to figure out\n",
    "# how to make it work.\n",
    "\n",
    "# Decomposition:\n",
    "# We can use an array of projectors to compose a large image.\n",
    "# Each projector operates independently, with own set of inputs\n",
    "# and projecting own output frame. The net effect is a large image \n",
    "# composed from multiple projectors.\n",
    "\n",
    "# In programming:\n",
    "\n",
    "# Decomposition is the problem of giving structure to code.\n",
    "# It gives a code modularity and promotes reuse, so that\n",
    "# code is organized and coherent. It is achieved with functions.\n",
    "# In Object Oriented Programming (OOP) it is achieved with classes\n",
    "\n",
    "# Modules are:\n",
    "# self-contained\n",
    "# reusable\n",
    "# break-up code\n",
    "# keep code coherent\n",
    "# and organized\n",
    "\n",
    "# Abstraction is the problem of hiding tedious implementation details.\n",
    "# These are details that people who use code as consumers do not want \n",
    "# to see and do not need to see. It is achieved through specification\n",
    "# of inputs that a function or module takes, the type of each input,\n",
    "# what the function or module does, and the output it generates.\n",
    "\n",
    "# Specification:\n",
    "# inputs\n",
    "# what it does\n",
    "# output"
   ]
  },
  {
   "cell_type": "code",
   "execution_count": 3,
   "metadata": {},
   "outputs": [
    {
     "data": {
      "text/plain": [
       "True"
      ]
     },
     "execution_count": 3,
     "metadata": {},
     "output_type": "execute_result"
    }
   ],
   "source": [
    "# Anatomy of a function.\n",
    "\n",
    "# A function has the following components:\n",
    "# parameters: also known as arguments, to accept inputs\n",
    "# body: implementation in code\n",
    "# scope: a 'space' in which to to do work.\n",
    "\n",
    "# It may also have:\n",
    "# name: a handle to invoke it\n",
    "# docstring: to describe it\n",
    "# output: a value returned by the function\n",
    "\n",
    "# Sample\n",
    "\n",
    "def is_even(i):\n",
    "    \"\"\"\n",
    "    Input: i, a positive integer\n",
    "    Returns True if i is even and False otherwise\n",
    "\n",
    "    \"\"\"\n",
    "    \n",
    "    return i%2 == 0\n",
    "\n",
    "is_even(3)\n",
    "is_even(2)"
   ]
  },
  {
   "cell_type": "code",
   "execution_count": 4,
   "metadata": {},
   "outputs": [],
   "source": [
    "# Function scope\n",
    "\n",
    "# A function needs a 'space' in which to go about its business,\n",
    "# just like a program does. This space is known as environment.\n",
    "# A function, like a program, gets its own environment. Access \n",
    "# to variables and resources during program execution  where\n",
    "# multiple environments co-exist is determined by scoping rules."
   ]
  },
  {
   "cell_type": "code",
   "execution_count": 5,
   "metadata": {},
   "outputs": [],
   "source": [
    "# Function Defintion and Invocation\n",
    "\n",
    "# There are two perspectives on a function.\n",
    "# WHERE a function is defined. \n",
    "# WHERE a function is invoked.\n",
    "# These provide context for application of scoping rules."
   ]
  },
  {
   "cell_type": "code",
   "execution_count": 6,
   "metadata": {},
   "outputs": [],
   "source": [
    "# None type\n",
    "\n",
    "# The None type represents a 'data not available' condition.\n",
    "\n",
    "# A function needs an explicit return statement to return a \n",
    "# value. However, a return statement is not mandatory, and\n",
    "# in the absence of one, None is returned.\n",
    "\n",
    "# Note that None is a special type. (It is not a string.)"
   ]
  },
  {
   "cell_type": "code",
   "execution_count": 9,
   "metadata": {},
   "outputs": [
    {
     "name": "stdout",
     "output_type": "stream",
     "text": [
      "None\n",
      "None\n"
     ]
    }
   ],
   "source": [
    "def is_even_noReturn(i):\n",
    "    \"\"\"\n",
    "    Input: i, a positive integer\n",
    "    Returns True if i is even and False otherwise\n",
    "\n",
    "    \"\"\"\n",
    "    \n",
    "    i%2 == 0\n",
    "    # return None # Is imnplicit\n",
    "\n",
    "print is_even_noReturn(3)\n",
    "print is_even_noReturn(2)"
   ]
  },
  {
   "cell_type": "code",
   "execution_count": 11,
   "metadata": {},
   "outputs": [
    {
     "name": "stdout",
     "output_type": "stream",
     "text": [
      "1 is odd, Todd.\n",
      "2 is even, Steven.\n",
      "3 is odd, Todd.\n",
      "4 is even, Steven.\n",
      "5 is odd, Todd.\n",
      "6 is even, Steven.\n",
      "7 is odd, Todd.\n",
      "8 is even, Steven.\n",
      "9 is odd, Todd.\n",
      "10 is even, Steven.\n",
      "11 is odd, Todd.\n",
      "12 is even, Steven.\n",
      "13 is odd, Todd.\n",
      "14 is even, Steven.\n",
      "15 is odd, Todd.\n",
      "16 is even, Steven.\n",
      "17 is odd, Todd.\n",
      "18 is even, Steven.\n",
      "19 is odd, Todd.\n",
      "20 is even, Steven.\n"
     ]
    }
   ],
   "source": [
    "# Function: Reuse\n",
    "\n",
    "# Use a function to promote code reuse and modularity.\n",
    "\n",
    "for i in range(20):\n",
    "    num = i + 1\n",
    "    if is_even(num):\n",
    "        print \"%r is even, Steven.\" % (num)\n",
    "    else:\n",
    "        print \"%r is odd, Todd.\" % (num)\n",
    "        "
   ]
  },
  {
   "cell_type": "code",
   "execution_count": 14,
   "metadata": {},
   "outputs": [
    {
     "name": "stdout",
     "output_type": "stream",
     "text": [
      "Inside A!\n",
      "None\n",
      "Inside B!\n",
      "12\n",
      "Inside C!\n",
      "Inside A!\n",
      "None\n"
     ]
    }
   ],
   "source": [
    "# Functions as variables\n",
    "\n",
    "def func_a():\n",
    "    print \"Inside A!\"\n",
    "    \n",
    "def func_b(y):\n",
    "    print \"Inside B!\"\n",
    "    return y\n",
    "\n",
    "def func_c(z):\n",
    "    print \"Inside C!\"\n",
    "    return z()\n",
    "\n",
    "# What is the output of each of the following?\n",
    "print func_a()\n",
    "print 7 + func_b(5)\n",
    "print func_c(func_a)\n",
    "\n",
    "# Note that it is possible to pass a function as a parameter\n",
    "# just like any other variable. When a function is passed\n",
    "# as a parameter and invoked in the scope of another function,\n",
    "# a nested scope is created for the inner function to execute\n",
    "# within the scope of the outer function."
   ]
  },
  {
   "cell_type": "code",
   "execution_count": 16,
   "metadata": {},
   "outputs": [
    {
     "name": "stdout",
     "output_type": "stream",
     "text": [
      "2\n",
      "7\n",
      "7\n",
      "8\n",
      "7\n",
      "See now, you pushed your luck too far!\n",
      "7\n"
     ]
    }
   ],
   "source": [
    "# Function: Nested scope\n",
    "\n",
    "# What is the result in each of x +the following?\n",
    "\n",
    "# One:\n",
    "def f(x):\n",
    "    x = 1\n",
    "    x += 1\n",
    "    print (x)\n",
    "    \n",
    "x = 7\n",
    "f(x)         # 2\n",
    "print x      # 7\n",
    "\n",
    "# Two:\n",
    "def g(y):\n",
    "    print x\n",
    "    print x+1\n",
    "    \n",
    "x = 7\n",
    "g(x)         # 7, 8\n",
    "print x      # 7\n",
    "\n",
    "def h(y):\n",
    "    x += 1\n",
    "    \n",
    "x = 7\n",
    "try:\n",
    "    h(x)     # x = 8\n",
    "except:\n",
    "    print \"See now, you pushed your luck too far!\"\n",
    "print x      # 7\n",
    "\n",
    "# In One: \n",
    "# The function is accepts an input through a parameter.\n",
    "# The function can then process this input in its scope\n",
    "# without any problems. This usage scenario is typical.\n",
    "\n",
    "# In Two:\n",
    "# The function references a variable that isn't in its\n",
    "# argument list and nor declared in the body of the \n",
    "# function. The function then looks for a value to bind\n",
    "# to this variable in the calling scope. If it finds it \n",
    "# there, it can still access the value AS LONG AS IT \n",
    "# DOES NOT MODIFY IT. What happens if this is attempted?\n",
    "\n",
    "# In Three:\n",
    "# ATTEMPTING TO MODIFY THE VALUE OF A VARIABLE OUTSIDE\n",
    "# THE SCOPE OF A FUNCTION PRODUCES AN ERROR!"
   ]
  },
  {
   "cell_type": "code",
   "execution_count": 17,
   "metadata": {},
   "outputs": [],
   "source": [
    "# An awesome resource with LIVE help from volunteers!\n",
    "\n",
    "# http://www.pythontutor.com/\n",
    "\n",
    "# Try it!"
   ]
  },
  {
   "cell_type": "code",
   "execution_count": 18,
   "metadata": {},
   "outputs": [
    {
     "name": "stdout",
     "output_type": "stream",
     "text": [
      "x has value: 4\n",
      "4\n"
     ]
    }
   ],
   "source": [
    "def g(x):\n",
    "    def h():\n",
    "        x = 'abc'\n",
    "    x = x + 1\n",
    "    print \"x has value: %r\" % (x)\n",
    "    h()\n",
    "    return x\n",
    "    \n",
    "x = 3\n",
    "z = g(x)\n",
    "print z"
   ]
  },
  {
   "cell_type": "code",
   "execution_count": null,
   "metadata": {},
   "outputs": [],
   "source": []
  }
 ],
 "metadata": {
  "kernelspec": {
   "display_name": "Python 2",
   "language": "python",
   "name": "python2"
  },
  "language_info": {
   "codemirror_mode": {
    "name": "ipython",
    "version": 2
   },
   "file_extension": ".py",
   "mimetype": "text/x-python",
   "name": "python",
   "nbconvert_exporter": "python",
   "pygments_lexer": "ipython2",
   "version": "2.7.14"
  }
 },
 "nbformat": 4,
 "nbformat_minor": 2
}
